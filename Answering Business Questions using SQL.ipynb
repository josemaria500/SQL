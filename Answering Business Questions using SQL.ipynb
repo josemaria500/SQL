{
 "cells": [
  {
   "cell_type": "markdown",
   "metadata": {
    "collapsed": true
   },
   "source": [
    "### Chinook database (SQLite) - Answering Business Questions using SQL"
   ]
  },
  {
   "cell_type": "markdown",
   "metadata": {},
   "source": [
    "The following code connect our Jupyter Notebook to our database file:"
   ]
  },
  {
   "cell_type": "code",
   "execution_count": 1,
   "metadata": {},
   "outputs": [],
   "source": [
    "%%capture\n",
    "%load_ext sql\n",
    "%sql sqlite:///chinook.db"
   ]
  },
  {
   "cell_type": "markdown",
   "metadata": {},
   "source": [
    "Getting the tables of the database"
   ]
  },
  {
   "cell_type": "code",
   "execution_count": 2,
   "metadata": {},
   "outputs": [
    {
     "name": "stdout",
     "output_type": "stream",
     "text": [
      " * sqlite:///chinook.db\n",
      "Done.\n"
     ]
    },
    {
     "data": {
      "text/html": [
       "<table>\n",
       "    <tr>\n",
       "        <th>name</th>\n",
       "        <th>type</th>\n",
       "    </tr>\n",
       "    <tr>\n",
       "        <td>album</td>\n",
       "        <td>table</td>\n",
       "    </tr>\n",
       "    <tr>\n",
       "        <td>artist</td>\n",
       "        <td>table</td>\n",
       "    </tr>\n",
       "    <tr>\n",
       "        <td>customer</td>\n",
       "        <td>table</td>\n",
       "    </tr>\n",
       "    <tr>\n",
       "        <td>employee</td>\n",
       "        <td>table</td>\n",
       "    </tr>\n",
       "    <tr>\n",
       "        <td>genre</td>\n",
       "        <td>table</td>\n",
       "    </tr>\n",
       "    <tr>\n",
       "        <td>invoice</td>\n",
       "        <td>table</td>\n",
       "    </tr>\n",
       "    <tr>\n",
       "        <td>invoice_line</td>\n",
       "        <td>table</td>\n",
       "    </tr>\n",
       "    <tr>\n",
       "        <td>media_type</td>\n",
       "        <td>table</td>\n",
       "    </tr>\n",
       "    <tr>\n",
       "        <td>playlist</td>\n",
       "        <td>table</td>\n",
       "    </tr>\n",
       "    <tr>\n",
       "        <td>playlist_track</td>\n",
       "        <td>table</td>\n",
       "    </tr>\n",
       "    <tr>\n",
       "        <td>track</td>\n",
       "        <td>table</td>\n",
       "    </tr>\n",
       "</table>"
      ],
      "text/plain": [
       "[('album', 'table'),\n",
       " ('artist', 'table'),\n",
       " ('customer', 'table'),\n",
       " ('employee', 'table'),\n",
       " ('genre', 'table'),\n",
       " ('invoice', 'table'),\n",
       " ('invoice_line', 'table'),\n",
       " ('media_type', 'table'),\n",
       " ('playlist', 'table'),\n",
       " ('playlist_track', 'table'),\n",
       " ('track', 'table')]"
      ]
     },
     "execution_count": 2,
     "metadata": {},
     "output_type": "execute_result"
    }
   ],
   "source": [
    "%%sql\n",
    "\n",
    "SELECT\n",
    "    name,\n",
    "    type\n",
    "FROM sqlite_master\n",
    "WHERE type IN (\"table\",\"view\");"
   ]
  },
  {
   "cell_type": "markdown",
   "metadata": {},
   "source": [
    "Obtaining the information from the customer table"
   ]
  },
  {
   "cell_type": "code",
   "execution_count": 3,
   "metadata": {},
   "outputs": [
    {
     "name": "stdout",
     "output_type": "stream",
     "text": [
      " * sqlite:///chinook.db\n",
      "Done.\n"
     ]
    },
    {
     "data": {
      "text/html": [
       "<table>\n",
       "    <tr>\n",
       "        <th>cid</th>\n",
       "        <th>name</th>\n",
       "        <th>type</th>\n",
       "        <th>notnull</th>\n",
       "        <th>dflt_value</th>\n",
       "        <th>pk</th>\n",
       "    </tr>\n",
       "    <tr>\n",
       "        <td>0</td>\n",
       "        <td>customer_id</td>\n",
       "        <td>INTEGER</td>\n",
       "        <td>1</td>\n",
       "        <td>None</td>\n",
       "        <td>1</td>\n",
       "    </tr>\n",
       "    <tr>\n",
       "        <td>1</td>\n",
       "        <td>first_name</td>\n",
       "        <td>NVARCHAR(40)</td>\n",
       "        <td>1</td>\n",
       "        <td>None</td>\n",
       "        <td>0</td>\n",
       "    </tr>\n",
       "    <tr>\n",
       "        <td>2</td>\n",
       "        <td>last_name</td>\n",
       "        <td>NVARCHAR(20)</td>\n",
       "        <td>1</td>\n",
       "        <td>None</td>\n",
       "        <td>0</td>\n",
       "    </tr>\n",
       "    <tr>\n",
       "        <td>3</td>\n",
       "        <td>company</td>\n",
       "        <td>NVARCHAR(80)</td>\n",
       "        <td>0</td>\n",
       "        <td>None</td>\n",
       "        <td>0</td>\n",
       "    </tr>\n",
       "    <tr>\n",
       "        <td>4</td>\n",
       "        <td>address</td>\n",
       "        <td>NVARCHAR(70)</td>\n",
       "        <td>0</td>\n",
       "        <td>None</td>\n",
       "        <td>0</td>\n",
       "    </tr>\n",
       "    <tr>\n",
       "        <td>5</td>\n",
       "        <td>city</td>\n",
       "        <td>NVARCHAR(40)</td>\n",
       "        <td>0</td>\n",
       "        <td>None</td>\n",
       "        <td>0</td>\n",
       "    </tr>\n",
       "    <tr>\n",
       "        <td>6</td>\n",
       "        <td>state</td>\n",
       "        <td>NVARCHAR(40)</td>\n",
       "        <td>0</td>\n",
       "        <td>None</td>\n",
       "        <td>0</td>\n",
       "    </tr>\n",
       "    <tr>\n",
       "        <td>7</td>\n",
       "        <td>country</td>\n",
       "        <td>NVARCHAR(40)</td>\n",
       "        <td>0</td>\n",
       "        <td>None</td>\n",
       "        <td>0</td>\n",
       "    </tr>\n",
       "    <tr>\n",
       "        <td>8</td>\n",
       "        <td>postal_code</td>\n",
       "        <td>NVARCHAR(10)</td>\n",
       "        <td>0</td>\n",
       "        <td>None</td>\n",
       "        <td>0</td>\n",
       "    </tr>\n",
       "    <tr>\n",
       "        <td>9</td>\n",
       "        <td>phone</td>\n",
       "        <td>NVARCHAR(24)</td>\n",
       "        <td>0</td>\n",
       "        <td>None</td>\n",
       "        <td>0</td>\n",
       "    </tr>\n",
       "    <tr>\n",
       "        <td>10</td>\n",
       "        <td>fax</td>\n",
       "        <td>NVARCHAR(24)</td>\n",
       "        <td>0</td>\n",
       "        <td>None</td>\n",
       "        <td>0</td>\n",
       "    </tr>\n",
       "    <tr>\n",
       "        <td>11</td>\n",
       "        <td>email</td>\n",
       "        <td>NVARCHAR(60)</td>\n",
       "        <td>1</td>\n",
       "        <td>None</td>\n",
       "        <td>0</td>\n",
       "    </tr>\n",
       "    <tr>\n",
       "        <td>12</td>\n",
       "        <td>support_rep_id</td>\n",
       "        <td>INTEGER</td>\n",
       "        <td>0</td>\n",
       "        <td>None</td>\n",
       "        <td>0</td>\n",
       "    </tr>\n",
       "</table>"
      ],
      "text/plain": [
       "[(0, 'customer_id', 'INTEGER', 1, None, 1),\n",
       " (1, 'first_name', 'NVARCHAR(40)', 1, None, 0),\n",
       " (2, 'last_name', 'NVARCHAR(20)', 1, None, 0),\n",
       " (3, 'company', 'NVARCHAR(80)', 0, None, 0),\n",
       " (4, 'address', 'NVARCHAR(70)', 0, None, 0),\n",
       " (5, 'city', 'NVARCHAR(40)', 0, None, 0),\n",
       " (6, 'state', 'NVARCHAR(40)', 0, None, 0),\n",
       " (7, 'country', 'NVARCHAR(40)', 0, None, 0),\n",
       " (8, 'postal_code', 'NVARCHAR(10)', 0, None, 0),\n",
       " (9, 'phone', 'NVARCHAR(24)', 0, None, 0),\n",
       " (10, 'fax', 'NVARCHAR(24)', 0, None, 0),\n",
       " (11, 'email', 'NVARCHAR(60)', 1, None, 0),\n",
       " (12, 'support_rep_id', 'INTEGER', 0, None, 0)]"
      ]
     },
     "execution_count": 3,
     "metadata": {},
     "output_type": "execute_result"
    }
   ],
   "source": [
    "%%sql\n",
    "PRAGMA table_info(customer);"
   ]
  },
  {
   "cell_type": "markdown",
   "metadata": {},
   "source": [
    "#### Chinook schema "
   ]
  },
  {
   "cell_type": "markdown",
   "metadata": {},
   "source": [
    "<img src=\"chinook-schema.svg\">"
   ]
  },
  {
   "cell_type": "markdown",
   "metadata": {},
   "source": [
    "### 1. Which genres sell the most tracks in the USA?"
   ]
  },
  {
   "cell_type": "code",
   "execution_count": 4,
   "metadata": {},
   "outputs": [
    {
     "name": "stdout",
     "output_type": "stream",
     "text": [
      " * sqlite:///chinook.db\n",
      "Done.\n"
     ]
    },
    {
     "data": {
      "text/html": [
       "<table>\n",
       "    <tr>\n",
       "        <th>genre</th>\n",
       "        <th>units</th>\n",
       "        <th>percentage</th>\n",
       "    </tr>\n",
       "    <tr>\n",
       "        <td>Rock</td>\n",
       "        <td>561</td>\n",
       "        <td>53.38</td>\n",
       "    </tr>\n",
       "    <tr>\n",
       "        <td>Alternative &amp; Punk</td>\n",
       "        <td>130</td>\n",
       "        <td>12.37</td>\n",
       "    </tr>\n",
       "    <tr>\n",
       "        <td>Metal</td>\n",
       "        <td>124</td>\n",
       "        <td>11.8</td>\n",
       "    </tr>\n",
       "    <tr>\n",
       "        <td>R&amp;B/Soul</td>\n",
       "        <td>53</td>\n",
       "        <td>5.04</td>\n",
       "    </tr>\n",
       "    <tr>\n",
       "        <td>Blues</td>\n",
       "        <td>36</td>\n",
       "        <td>3.43</td>\n",
       "    </tr>\n",
       "    <tr>\n",
       "        <td>Alternative</td>\n",
       "        <td>35</td>\n",
       "        <td>3.33</td>\n",
       "    </tr>\n",
       "    <tr>\n",
       "        <td>Latin</td>\n",
       "        <td>22</td>\n",
       "        <td>2.09</td>\n",
       "    </tr>\n",
       "    <tr>\n",
       "        <td>Pop</td>\n",
       "        <td>22</td>\n",
       "        <td>2.09</td>\n",
       "    </tr>\n",
       "    <tr>\n",
       "        <td>Hip Hop/Rap</td>\n",
       "        <td>20</td>\n",
       "        <td>1.9</td>\n",
       "    </tr>\n",
       "    <tr>\n",
       "        <td>Jazz</td>\n",
       "        <td>14</td>\n",
       "        <td>1.33</td>\n",
       "    </tr>\n",
       "    <tr>\n",
       "        <td>Easy Listening</td>\n",
       "        <td>13</td>\n",
       "        <td>1.24</td>\n",
       "    </tr>\n",
       "    <tr>\n",
       "        <td>Reggae</td>\n",
       "        <td>6</td>\n",
       "        <td>0.57</td>\n",
       "    </tr>\n",
       "    <tr>\n",
       "        <td>Electronica/Dance</td>\n",
       "        <td>5</td>\n",
       "        <td>0.48</td>\n",
       "    </tr>\n",
       "    <tr>\n",
       "        <td>Classical</td>\n",
       "        <td>4</td>\n",
       "        <td>0.38</td>\n",
       "    </tr>\n",
       "    <tr>\n",
       "        <td>Heavy Metal</td>\n",
       "        <td>3</td>\n",
       "        <td>0.29</td>\n",
       "    </tr>\n",
       "    <tr>\n",
       "        <td>Soundtrack</td>\n",
       "        <td>2</td>\n",
       "        <td>0.19</td>\n",
       "    </tr>\n",
       "    <tr>\n",
       "        <td>TV Shows</td>\n",
       "        <td>1</td>\n",
       "        <td>0.1</td>\n",
       "    </tr>\n",
       "</table>"
      ],
      "text/plain": [
       "[('Rock', 561, 53.38),\n",
       " ('Alternative & Punk', 130, 12.37),\n",
       " ('Metal', 124, 11.8),\n",
       " ('R&B/Soul', 53, 5.04),\n",
       " ('Blues', 36, 3.43),\n",
       " ('Alternative', 35, 3.33),\n",
       " ('Latin', 22, 2.09),\n",
       " ('Pop', 22, 2.09),\n",
       " ('Hip Hop/Rap', 20, 1.9),\n",
       " ('Jazz', 14, 1.33),\n",
       " ('Easy Listening', 13, 1.24),\n",
       " ('Reggae', 6, 0.57),\n",
       " ('Electronica/Dance', 5, 0.48),\n",
       " ('Classical', 4, 0.38),\n",
       " ('Heavy Metal', 3, 0.29),\n",
       " ('Soundtrack', 2, 0.19),\n",
       " ('TV Shows', 1, 0.1)]"
      ]
     },
     "execution_count": 4,
     "metadata": {},
     "output_type": "execute_result"
    }
   ],
   "source": [
    "%%sql\n",
    "\n",
    "WITH  invoice_USA  AS (SELECT invoice_id\n",
    "                         FROM invoice\n",
    "                        WHERE billing_country = 'USA'),\n",
    "     \n",
    "invoice_line_genre AS (SELECT i.invoice_id,\n",
    "                              i.quantity,\n",
    "                              g.name \n",
    "                         FROM invoice_line AS i\n",
    "                        INNER JOIN track AS t ON t.track_id = i.track_id\n",
    "                        INNER JOIN genre AS g ON g.genre_id = t.genre_id),\n",
    "    \n",
    "units_sold_by_genre AS (SELECT name AS genre,\n",
    "                               SUM(quantity) AS units\n",
    "                          FROM invoice_USA  \n",
    "                         INNER JOIN invoice_line_genre ON invoice_line_genre.invoice_id = invoice_USA.invoice_id    \n",
    "                         GROUP BY name),\n",
    "     \n",
    "        total_units AS (SELECT SUM(units) AS total\n",
    "                          FROM units_sold_by_genre)\n",
    "    \n",
    "SELECT genre,\n",
    "       units,\n",
    "       ROUND(CAST(units AS Float) * 100 / (SELECT total FROM total_units), 2) AS percentage   \n",
    "  FROM units_sold_by_genre\n",
    " ORDER BY units DESC    "
   ]
  },
  {
   "cell_type": "markdown",
   "metadata": {},
   "source": [
    "### 2. Sales support agent and sales"
   ]
  },
  {
   "cell_type": "code",
   "execution_count": 5,
   "metadata": {},
   "outputs": [
    {
     "name": "stdout",
     "output_type": "stream",
     "text": [
      " * sqlite:///chinook.db\n",
      "Done.\n"
     ]
    },
    {
     "data": {
      "text/html": [
       "<table>\n",
       "    <tr>\n",
       "        <th>sales_support</th>\n",
       "        <th>hire_date</th>\n",
       "        <th>city</th>\n",
       "        <th>total_sales</th>\n",
       "    </tr>\n",
       "    <tr>\n",
       "        <td>Jane Peacock</td>\n",
       "        <td>2017-04-01 00:00:00</td>\n",
       "        <td>Calgary</td>\n",
       "        <td>1731.5099999999998</td>\n",
       "    </tr>\n",
       "    <tr>\n",
       "        <td>Margaret Park</td>\n",
       "        <td>2017-05-03 00:00:00</td>\n",
       "        <td>Calgary</td>\n",
       "        <td>1584.0000000000002</td>\n",
       "    </tr>\n",
       "    <tr>\n",
       "        <td>Steve Johnson</td>\n",
       "        <td>2017-10-17 00:00:00</td>\n",
       "        <td>Calgary</td>\n",
       "        <td>1393.92</td>\n",
       "    </tr>\n",
       "</table>"
      ],
      "text/plain": [
       "[('Jane Peacock', '2017-04-01 00:00:00', 'Calgary', 1731.5099999999998),\n",
       " ('Margaret Park', '2017-05-03 00:00:00', 'Calgary', 1584.0000000000002),\n",
       " ('Steve Johnson', '2017-10-17 00:00:00', 'Calgary', 1393.92)]"
      ]
     },
     "execution_count": 5,
     "metadata": {},
     "output_type": "execute_result"
    }
   ],
   "source": [
    "%%sql\n",
    "\n",
    "WITH sales_support_customers AS (SELECT e.first_name || ' ' || e.last_name AS sales_support,\n",
    "                                        e.hire_date,\n",
    "                                        e.city,\n",
    "                                        c.customer_id\n",
    "                                   FROM employee AS e\n",
    "                                  INNER JOIN customer AS c ON c.support_rep_id = e.employee_id),\n",
    "\n",
    "     customer_invoice AS (SELECT i.customer_id,\n",
    "                                 SUM(i.total) AS total\n",
    "                            FROM customer AS c\n",
    "                           INNER JOIN invoice AS i ON i.customer_id = c.customer_id \n",
    "                           GROUP BY i.customer_id)\n",
    "                        \n",
    "SELECT sales_support, \n",
    "       hire_date,\n",
    "       city,\n",
    "       SUM(total) AS total_sales\n",
    "  FROM sales_support_customers AS s\n",
    " INNER JOIN customer_invoice AS c ON c.customer_id = s.customer_id\n",
    " GROUP BY sales_support\n",
    "                        \n"
   ]
  },
  {
   "cell_type": "markdown",
   "metadata": {
    "collapsed": true
   },
   "source": [
    "### 3. Analyze the sales data of customers from each different country."
   ]
  },
  {
   "cell_type": "code",
   "execution_count": 6,
   "metadata": {},
   "outputs": [
    {
     "name": "stdout",
     "output_type": "stream",
     "text": [
      " * sqlite:///chinook.db\n",
      "Done.\n"
     ]
    },
    {
     "data": {
      "text/html": [
       "<table>\n",
       "    <tr>\n",
       "        <th>country</th>\n",
       "        <th>Number_customers</th>\n",
       "    </tr>\n",
       "    <tr>\n",
       "        <td>Argentina</td>\n",
       "        <td>1</td>\n",
       "    </tr>\n",
       "    <tr>\n",
       "        <td>Australia</td>\n",
       "        <td>1</td>\n",
       "    </tr>\n",
       "    <tr>\n",
       "        <td>Austria</td>\n",
       "        <td>1</td>\n",
       "    </tr>\n",
       "    <tr>\n",
       "        <td>Belgium</td>\n",
       "        <td>1</td>\n",
       "    </tr>\n",
       "    <tr>\n",
       "        <td>Chile</td>\n",
       "        <td>1</td>\n",
       "    </tr>\n",
       "    <tr>\n",
       "        <td>Denmark</td>\n",
       "        <td>1</td>\n",
       "    </tr>\n",
       "    <tr>\n",
       "        <td>Finland</td>\n",
       "        <td>1</td>\n",
       "    </tr>\n",
       "    <tr>\n",
       "        <td>Hungary</td>\n",
       "        <td>1</td>\n",
       "    </tr>\n",
       "    <tr>\n",
       "        <td>Ireland</td>\n",
       "        <td>1</td>\n",
       "    </tr>\n",
       "    <tr>\n",
       "        <td>Italy</td>\n",
       "        <td>1</td>\n",
       "    </tr>\n",
       "    <tr>\n",
       "        <td>Netherlands</td>\n",
       "        <td>1</td>\n",
       "    </tr>\n",
       "    <tr>\n",
       "        <td>Norway</td>\n",
       "        <td>1</td>\n",
       "    </tr>\n",
       "    <tr>\n",
       "        <td>Poland</td>\n",
       "        <td>1</td>\n",
       "    </tr>\n",
       "    <tr>\n",
       "        <td>Spain</td>\n",
       "        <td>1</td>\n",
       "    </tr>\n",
       "    <tr>\n",
       "        <td>Sweden</td>\n",
       "        <td>1</td>\n",
       "    </tr>\n",
       "    <tr>\n",
       "        <td>Czech Republic</td>\n",
       "        <td>2</td>\n",
       "    </tr>\n",
       "    <tr>\n",
       "        <td>India</td>\n",
       "        <td>2</td>\n",
       "    </tr>\n",
       "    <tr>\n",
       "        <td>Portugal</td>\n",
       "        <td>2</td>\n",
       "    </tr>\n",
       "    <tr>\n",
       "        <td>United Kingdom</td>\n",
       "        <td>3</td>\n",
       "    </tr>\n",
       "    <tr>\n",
       "        <td>Germany</td>\n",
       "        <td>4</td>\n",
       "    </tr>\n",
       "    <tr>\n",
       "        <td>Brazil</td>\n",
       "        <td>5</td>\n",
       "    </tr>\n",
       "    <tr>\n",
       "        <td>France</td>\n",
       "        <td>5</td>\n",
       "    </tr>\n",
       "    <tr>\n",
       "        <td>Canada</td>\n",
       "        <td>8</td>\n",
       "    </tr>\n",
       "    <tr>\n",
       "        <td>USA</td>\n",
       "        <td>13</td>\n",
       "    </tr>\n",
       "</table>"
      ],
      "text/plain": [
       "[('Argentina', 1),\n",
       " ('Australia', 1),\n",
       " ('Austria', 1),\n",
       " ('Belgium', 1),\n",
       " ('Chile', 1),\n",
       " ('Denmark', 1),\n",
       " ('Finland', 1),\n",
       " ('Hungary', 1),\n",
       " ('Ireland', 1),\n",
       " ('Italy', 1),\n",
       " ('Netherlands', 1),\n",
       " ('Norway', 1),\n",
       " ('Poland', 1),\n",
       " ('Spain', 1),\n",
       " ('Sweden', 1),\n",
       " ('Czech Republic', 2),\n",
       " ('India', 2),\n",
       " ('Portugal', 2),\n",
       " ('United Kingdom', 3),\n",
       " ('Germany', 4),\n",
       " ('Brazil', 5),\n",
       " ('France', 5),\n",
       " ('Canada', 8),\n",
       " ('USA', 13)]"
      ]
     },
     "execution_count": 6,
     "metadata": {},
     "output_type": "execute_result"
    }
   ],
   "source": [
    "%%sql\n",
    "\n",
    "SELECT country, COUNT(customer_id) AS Number_customers\n",
    "  FROM customer\n",
    " GROUP BY country \n",
    " ORDER BY Number_customers"
   ]
  },
  {
   "cell_type": "markdown",
   "metadata": {},
   "source": [
    "Because there are several countries with only one customer, we should group these customers as \"Other\" in your analysis. The results should be sorted by the total sales from highest to lowest, with the \"Other\" group at the very bottom."
   ]
  },
  {
   "cell_type": "code",
   "execution_count": 7,
   "metadata": {},
   "outputs": [
    {
     "name": "stdout",
     "output_type": "stream",
     "text": [
      " * sqlite:///chinook.db\n",
      "Done.\n"
     ]
    },
    {
     "data": {
      "text/html": [
       "<table>\n",
       "    <tr>\n",
       "        <th>country</th>\n",
       "        <th>Number_customers</th>\n",
       "    </tr>\n",
       "    <tr>\n",
       "        <td>Other</td>\n",
       "        <td>15</td>\n",
       "    </tr>\n",
       "    <tr>\n",
       "        <td>USA</td>\n",
       "        <td>13</td>\n",
       "    </tr>\n",
       "    <tr>\n",
       "        <td>Canada</td>\n",
       "        <td>8</td>\n",
       "    </tr>\n",
       "    <tr>\n",
       "        <td>Brazil</td>\n",
       "        <td>5</td>\n",
       "    </tr>\n",
       "    <tr>\n",
       "        <td>France</td>\n",
       "        <td>5</td>\n",
       "    </tr>\n",
       "    <tr>\n",
       "        <td>Germany</td>\n",
       "        <td>4</td>\n",
       "    </tr>\n",
       "    <tr>\n",
       "        <td>United Kingdom</td>\n",
       "        <td>3</td>\n",
       "    </tr>\n",
       "    <tr>\n",
       "        <td>Czech Republic</td>\n",
       "        <td>2</td>\n",
       "    </tr>\n",
       "    <tr>\n",
       "        <td>India</td>\n",
       "        <td>2</td>\n",
       "    </tr>\n",
       "    <tr>\n",
       "        <td>Portugal</td>\n",
       "        <td>2</td>\n",
       "    </tr>\n",
       "</table>"
      ],
      "text/plain": [
       "[('Other', 15),\n",
       " ('USA', 13),\n",
       " ('Canada', 8),\n",
       " ('Brazil', 5),\n",
       " ('France', 5),\n",
       " ('Germany', 4),\n",
       " ('United Kingdom', 3),\n",
       " ('Czech Republic', 2),\n",
       " ('India', 2),\n",
       " ('Portugal', 2)]"
      ]
     },
     "execution_count": 7,
     "metadata": {},
     "output_type": "execute_result"
    }
   ],
   "source": [
    "%%sql\n",
    "\n",
    "WITH data AS (SELECT country, COUNT(customer_id) AS Number_customers, \n",
    "                     CASE\n",
    "                         WHEN COUNT(customer_id) = 1 THEN 'Other'\n",
    "                         ELSE country \n",
    "                      END AS Aux_country\n",
    "                FROM customer\n",
    "               GROUP BY country\n",
    "               ORDER BY Number_customers)\n",
    "\n",
    "SELECT Aux_country AS country,\n",
    "       SUM(Number_customers) AS Number_customers\n",
    "  FROM data\n",
    " GROUP BY Aux_country\n",
    " ORDER BY Number_customers DESC"
   ]
  },
  {
   "cell_type": "code",
   "execution_count": 8,
   "metadata": {},
   "outputs": [
    {
     "name": "stdout",
     "output_type": "stream",
     "text": [
      " * sqlite:///chinook.db\n",
      "Done.\n"
     ]
    },
    {
     "data": {
      "text/html": [
       "<table>\n",
       "    <tr>\n",
       "        <th>country</th>\n",
       "        <th>number_customers</th>\n",
       "        <th>total_sales</th>\n",
       "        <th>avg_sales_per_customer</th>\n",
       "        <th>avg_order_value</th>\n",
       "    </tr>\n",
       "    <tr>\n",
       "        <td>Other</td>\n",
       "        <td>15</td>\n",
       "        <td>1094.94</td>\n",
       "        <td>73.0</td>\n",
       "        <td>7.45</td>\n",
       "    </tr>\n",
       "    <tr>\n",
       "        <td>USA</td>\n",
       "        <td>13</td>\n",
       "        <td>1040.49</td>\n",
       "        <td>80.04</td>\n",
       "        <td>7.94</td>\n",
       "    </tr>\n",
       "    <tr>\n",
       "        <td>Canada</td>\n",
       "        <td>8</td>\n",
       "        <td>535.59</td>\n",
       "        <td>66.95</td>\n",
       "        <td>7.05</td>\n",
       "    </tr>\n",
       "    <tr>\n",
       "        <td>Brazil</td>\n",
       "        <td>5</td>\n",
       "        <td>427.68</td>\n",
       "        <td>85.54</td>\n",
       "        <td>7.01</td>\n",
       "    </tr>\n",
       "    <tr>\n",
       "        <td>France</td>\n",
       "        <td>5</td>\n",
       "        <td>389.07</td>\n",
       "        <td>77.81</td>\n",
       "        <td>7.78</td>\n",
       "    </tr>\n",
       "    <tr>\n",
       "        <td>Germany</td>\n",
       "        <td>4</td>\n",
       "        <td>334.62</td>\n",
       "        <td>83.65</td>\n",
       "        <td>8.16</td>\n",
       "    </tr>\n",
       "    <tr>\n",
       "        <td>Czech Republic</td>\n",
       "        <td>2</td>\n",
       "        <td>273.24</td>\n",
       "        <td>136.62</td>\n",
       "        <td>9.11</td>\n",
       "    </tr>\n",
       "    <tr>\n",
       "        <td>United Kingdom</td>\n",
       "        <td>3</td>\n",
       "        <td>245.52</td>\n",
       "        <td>81.84</td>\n",
       "        <td>8.77</td>\n",
       "    </tr>\n",
       "    <tr>\n",
       "        <td>Portugal</td>\n",
       "        <td>2</td>\n",
       "        <td>185.13</td>\n",
       "        <td>92.57</td>\n",
       "        <td>6.38</td>\n",
       "    </tr>\n",
       "    <tr>\n",
       "        <td>India</td>\n",
       "        <td>2</td>\n",
       "        <td>183.15</td>\n",
       "        <td>91.57</td>\n",
       "        <td>8.72</td>\n",
       "    </tr>\n",
       "</table>"
      ],
      "text/plain": [
       "[('Other', 15, 1094.94, 73.0, 7.45),\n",
       " ('USA', 13, 1040.49, 80.04, 7.94),\n",
       " ('Canada', 8, 535.59, 66.95, 7.05),\n",
       " ('Brazil', 5, 427.68, 85.54, 7.01),\n",
       " ('France', 5, 389.07, 77.81, 7.78),\n",
       " ('Germany', 4, 334.62, 83.65, 8.16),\n",
       " ('Czech Republic', 2, 273.24, 136.62, 9.11),\n",
       " ('United Kingdom', 3, 245.52, 81.84, 8.77),\n",
       " ('Portugal', 2, 185.13, 92.57, 6.38),\n",
       " ('India', 2, 183.15, 91.57, 8.72)]"
      ]
     },
     "execution_count": 8,
     "metadata": {},
     "output_type": "execute_result"
    }
   ],
   "source": [
    "%%sql\n",
    "\n",
    "WITH data AS (SELECT CASE\n",
    "                         WHEN COUNT(DISTINCT(c.customer_id)) = 1 THEN 'Other'\n",
    "                         ELSE country \n",
    "                     END AS country,\n",
    "                     COUNT(DISTINCT(c.customer_id)) AS number_customers,\n",
    "                     SUM(total) AS total_sales,\n",
    "                     COUNT(invoice_id) AS number_orders\n",
    "                FROM customer AS c\n",
    "               INNER JOIN invoice AS i ON i.customer_id = c.customer_id\n",
    "               GROUP BY country),\n",
    "     \n",
    "     country_data AS (SELECT country, \n",
    "                             SUM(number_customers) AS number_customers,\n",
    "                             SUM(total_sales) AS total_sales,\n",
    "                             SUM(number_orders) AS number_orders,\n",
    "                             CASE\n",
    "                                 WHEN country = 'Other' THEN 1             \n",
    "                                 ELSE 0\n",
    "                              END AS aux_sort\n",
    "                        FROM data\n",
    "                       GROUP BY country\n",
    "                       ORDER BY total_sales DESC)\n",
    "\n",
    "SELECT country,\n",
    "       number_customers,\n",
    "       ROUND(total_sales, 2) AS total_sales,\n",
    "       ROUND(total_sales / number_customers, 2) AS avg_sales_per_customer,\n",
    "       ROUND(total_sales / number_orders, 2) AS avg_order_value\n",
    "  FROM country_data\n",
    " ORDER BY aux_sort DESC"
   ]
  },
  {
   "cell_type": "markdown",
   "metadata": {
    "collapsed": true
   },
   "source": [
    "### 4.  What sells the most, individual songs from albums or full albums?"
   ]
  },
  {
   "cell_type": "markdown",
   "metadata": {},
   "source": [
    "Are there tracks duplicated in the invoices?"
   ]
  },
  {
   "cell_type": "code",
   "execution_count": 9,
   "metadata": {},
   "outputs": [
    {
     "name": "stdout",
     "output_type": "stream",
     "text": [
      " * sqlite:///chinook.db\n",
      "Done.\n"
     ]
    },
    {
     "data": {
      "text/html": [
       "<table>\n",
       "    <tr>\n",
       "        <th>total_number_invoice_id_line</th>\n",
       "        <th>number_invoice_id_line_no_duplicated</th>\n",
       "    </tr>\n",
       "    <tr>\n",
       "        <td>4757</td>\n",
       "        <td>4745</td>\n",
       "    </tr>\n",
       "</table>"
      ],
      "text/plain": [
       "[(4757, 4745)]"
      ]
     },
     "execution_count": 9,
     "metadata": {},
     "output_type": "execute_result"
    }
   ],
   "source": [
    "%%sql\n",
    "\n",
    "WITH data AS (SELECT invoice_id || '_' || i.track_id || '_' || t.album_id AS code\n",
    "                FROM invoice_line AS i\n",
    "               INNER JOIN track AS t ON t.track_id = i.track_id)\n",
    "\n",
    "SELECT COUNT(*) AS total_number_invoice_id_line,        \n",
    "       COUNT(DISTINCT(code)) AS number_invoice_id_line_no_duplicated\n",
    "\n",
    "FROM data"
   ]
  },
  {
   "cell_type": "markdown",
   "metadata": {
    "collapsed": true
   },
   "source": [
    "In the next query we'll see that in some invoices we have tracks from differents albums."
   ]
  },
  {
   "cell_type": "code",
   "execution_count": 10,
   "metadata": {},
   "outputs": [
    {
     "name": "stdout",
     "output_type": "stream",
     "text": [
      " * sqlite:///chinook.db\n",
      "Done.\n"
     ]
    },
    {
     "data": {
      "text/html": [
       "<table>\n",
       "    <tr>\n",
       "        <th>invoice_id</th>\n",
       "        <th>album_id</th>\n",
       "        <th>invoice_album</th>\n",
       "    </tr>\n",
       "    <tr>\n",
       "        <td>1</td>\n",
       "        <td>91</td>\n",
       "        <td>1-91</td>\n",
       "    </tr>\n",
       "    <tr>\n",
       "        <td>2</td>\n",
       "        <td>134</td>\n",
       "        <td>2-134</td>\n",
       "    </tr>\n",
       "    <tr>\n",
       "        <td>2</td>\n",
       "        <td>190</td>\n",
       "        <td>2-190</td>\n",
       "    </tr>\n",
       "    <tr>\n",
       "        <td>2</td>\n",
       "        <td>20</td>\n",
       "        <td>2-20</td>\n",
       "    </tr>\n",
       "    <tr>\n",
       "        <td>2</td>\n",
       "        <td>215</td>\n",
       "        <td>2-215</td>\n",
       "    </tr>\n",
       "    <tr>\n",
       "        <td>2</td>\n",
       "        <td>218</td>\n",
       "        <td>2-218</td>\n",
       "    </tr>\n",
       "    <tr>\n",
       "        <td>2</td>\n",
       "        <td>322</td>\n",
       "        <td>2-322</td>\n",
       "    </tr>\n",
       "    <tr>\n",
       "        <td>2</td>\n",
       "        <td>34</td>\n",
       "        <td>2-34</td>\n",
       "    </tr>\n",
       "    <tr>\n",
       "        <td>2</td>\n",
       "        <td>39</td>\n",
       "        <td>2-39</td>\n",
       "    </tr>\n",
       "    <tr>\n",
       "        <td>2</td>\n",
       "        <td>66</td>\n",
       "        <td>2-66</td>\n",
       "    </tr>\n",
       "</table>"
      ],
      "text/plain": [
       "[(1, 91, '1-91'),\n",
       " (2, 134, '2-134'),\n",
       " (2, 190, '2-190'),\n",
       " (2, 20, '2-20'),\n",
       " (2, 215, '2-215'),\n",
       " (2, 218, '2-218'),\n",
       " (2, 322, '2-322'),\n",
       " (2, 34, '2-34'),\n",
       " (2, 39, '2-39'),\n",
       " (2, 66, '2-66')]"
      ]
     },
     "execution_count": 10,
     "metadata": {},
     "output_type": "execute_result"
    }
   ],
   "source": [
    "%%sql\n",
    "\n",
    "/*In the next query we'll see that in some invoices \n",
    "we have tracks from differents albums.*/\n",
    "\n",
    "SELECT invoice_id, t.album_id, CAST(invoice_id AS Text) || '-' || CAST(t.album_id AS Text) AS  invoice_album\n",
    "  FROM invoice_line AS i\n",
    " INNER JOIN track AS t ON t.track_id = i.track_id  \n",
    " GROUP BY invoice_album\n",
    " ORDER BY invoice_id\n",
    "LIMIT 10"
   ]
  },
  {
   "cell_type": "code",
   "execution_count": 11,
   "metadata": {},
   "outputs": [
    {
     "name": "stdout",
     "output_type": "stream",
     "text": [
      " * sqlite:///chinook.db\n",
      "Done.\n"
     ]
    },
    {
     "data": {
      "text/html": [
       "<table>\n",
       "    <tr>\n",
       "        <th>full_album</th>\n",
       "        <th>number</th>\n",
       "        <th>percentage</th>\n",
       "    </tr>\n",
       "    <tr>\n",
       "        <td>no</td>\n",
       "        <td>2869</td>\n",
       "        <td>93.24</td>\n",
       "    </tr>\n",
       "    <tr>\n",
       "        <td>yes</td>\n",
       "        <td>208</td>\n",
       "        <td>6.76</td>\n",
       "    </tr>\n",
       "</table>"
      ],
      "text/plain": [
       "[('no', 2869, 93.24), ('yes', 208, 6.76)]"
      ]
     },
     "execution_count": 11,
     "metadata": {},
     "output_type": "execute_result"
    }
   ],
   "source": [
    "%%sql\n",
    "\n",
    "WITH invoice_album AS (SELECT invoice_id, \n",
    "                              t.album_id, \n",
    "                              invoice_id || '_' || t.album_id AS invoice_album,\n",
    "                              COUNT(DISTINCT(invoice_id || '_' || i.track_id || '_' || t.album_id)) AS number_tracks_in_invoice_same_album                              \n",
    "                         FROM invoice_line AS i\n",
    "                        INNER JOIN track AS t ON t.track_id = i.track_id  \n",
    "                        GROUP BY invoice_album\n",
    "                        ORDER BY invoice_id),\n",
    "\n",
    "     data AS (SELECT *, \n",
    "                     (SELECT COUNT(track_id)\n",
    "                        FROM track AS t\n",
    "                       WHERE t.album_id = ia.album_id) AS number_tracks_in_album,\n",
    "                  \n",
    "                     CASE \n",
    "                         WHEN (SELECT COUNT(track_id)\n",
    "                         FROM track AS t\n",
    "                        WHERE t.album_id = ia.album_id) = number_tracks_in_invoice_same_album THEN 'yes'\n",
    "                     ELSE 'no'\n",
    "                     END AS full_album  \n",
    "              FROM invoice_album AS ia)\n",
    "                             \n",
    "SELECT full_album, \n",
    "       COUNT(full_album) AS number,\n",
    "       ROUND(CAST(100 * COUNT(full_album) AS Float) / (SELECT COUNT(*) FROM data),2) AS percentage\n",
    "  FROM data AS d\n",
    " GROUP BY full_album"
   ]
  },
  {
   "cell_type": "markdown",
   "metadata": {},
   "source": [
    "Another way of obtain the same data"
   ]
  },
  {
   "cell_type": "code",
   "execution_count": 12,
   "metadata": {},
   "outputs": [
    {
     "name": "stdout",
     "output_type": "stream",
     "text": [
      " * sqlite:///chinook.db\n",
      "Done.\n"
     ]
    },
    {
     "data": {
      "text/html": [
       "<table>\n",
       "    <tr>\n",
       "        <th>full_album</th>\n",
       "        <th>number</th>\n",
       "        <th>percentage</th>\n",
       "    </tr>\n",
       "    <tr>\n",
       "        <td>no</td>\n",
       "        <td>2869</td>\n",
       "        <td>93.24</td>\n",
       "    </tr>\n",
       "    <tr>\n",
       "        <td>yes</td>\n",
       "        <td>208</td>\n",
       "        <td>6.76</td>\n",
       "    </tr>\n",
       "</table>"
      ],
      "text/plain": [
       "[('no', 2869, 93.24), ('yes', 208, 6.76)]"
      ]
     },
     "execution_count": 12,
     "metadata": {},
     "output_type": "execute_result"
    }
   ],
   "source": [
    "%%sql\n",
    "\n",
    "WITH invoice_album AS (SELECT invoice_id, \n",
    "                              t.album_id, \n",
    "                              invoice_id || '_' || t.album_id AS invoice_album                            \n",
    "                         FROM invoice_line AS i\n",
    "                        INNER JOIN track AS t ON t.track_id = i.track_id  \n",
    "                        GROUP BY invoice_album\n",
    "                        ORDER BY invoice_id),\n",
    "                     \n",
    "              data AS (SELECT *,  \n",
    "                              CASE\n",
    "                                 WHEN(-- tracks in the album\n",
    "                                      SELECT t.track_id\n",
    "                                      FROM track AS t\n",
    "                                      WHERE t.album_id = i.album_id\n",
    "\n",
    "                                 EXCEPT \n",
    "\n",
    "                                 SELECT il.track_id \n",
    "                                   FROM invoice_line AS il \n",
    "                                  INNER JOIN track AS t ON il.track_id = t.track_id\n",
    "                                  WHERE il.invoice_id = i.invoice_id AND t.album_id = i.album_id\n",
    "                                 ) IS NULL\n",
    "                                \n",
    "                                 AND\n",
    "                               \n",
    "                                 (SELECT il.track_id \n",
    "                                    FROM invoice_line AS il \n",
    "                                   INNER JOIN track AS t ON il.track_id = t.track_id\n",
    "                                   WHERE il.invoice_id = i.invoice_id AND t.album_id = i.album_id\n",
    "\n",
    "                                 EXCEPT \n",
    "\n",
    "                                 SELECT t.track_id \n",
    "                                   FROM track AS t\n",
    "                                  WHERE t.album_id = i.album_id\n",
    "                                 ) IS NULL\n",
    "                              THEN \"yes\"\n",
    "                              ELSE \"no\"\n",
    "                               END AS \"full_album\"\n",
    "                         FROM invoice_album AS i)\n",
    "\n",
    "SELECT full_album, \n",
    "       COUNT(full_album) AS number,\n",
    "       ROUND(CAST(100 * COUNT(full_album) AS Float) / (SELECT COUNT(*) FROM data),2) AS percentage\n",
    "  FROM data \n",
    " GROUP BY full_album"
   ]
  },
  {
   "cell_type": "markdown",
   "metadata": {
    "collapsed": true
   },
   "source": [
    "### 5. How many tracks have been purchased vs not purchased?"
   ]
  },
  {
   "cell_type": "code",
   "execution_count": 13,
   "metadata": {},
   "outputs": [
    {
     "name": "stdout",
     "output_type": "stream",
     "text": [
      " * sqlite:///chinook.db\n",
      "Done.\n"
     ]
    },
    {
     "data": {
      "text/html": [
       "<table>\n",
       "    <tr>\n",
       "        <th>track</th>\n",
       "        <th>total</th>\n",
       "        <th>percentage</th>\n",
       "    </tr>\n",
       "    <tr>\n",
       "        <td>no purchased</td>\n",
       "        <td>1697</td>\n",
       "        <td>48.44</td>\n",
       "    </tr>\n",
       "    <tr>\n",
       "        <td>purchased</td>\n",
       "        <td>1806</td>\n",
       "        <td>51.56</td>\n",
       "    </tr>\n",
       "</table>"
      ],
      "text/plain": [
       "[('no purchased', 1697, 48.44), ('purchased', 1806, 51.56)]"
      ]
     },
     "execution_count": 13,
     "metadata": {},
     "output_type": "execute_result"
    }
   ],
   "source": [
    "%%sql\n",
    "                     \n",
    "WITH purchased AS (-- all the tracks\n",
    "                   SELECT track_id    \n",
    "                     FROM track \n",
    "\n",
    "                INTERSECT\n",
    "\n",
    "                   --purchased tracks\n",
    "                   SELECT DISTINCT(track_id)\n",
    "                     FROM invoice_line),\n",
    "     \n",
    "  no_purchased AS (SELECT track_id\n",
    "                       FROM track  \n",
    "\n",
    "                   EXCEPT\n",
    "\n",
    "                   SELECT DISTINCT(track_id)\n",
    "                     FROM invoice_line),\n",
    "    \n",
    "    union_data AS (SELECT *, \n",
    "                          'purchased' AS 'track' \n",
    "                     FROM purchased\n",
    "\n",
    "                    UNION\n",
    "\n",
    "                   SELECT *,  \n",
    "                          'no purchased' AS 'track' \n",
    "                     FROM no_purchased)\n",
    "        \n",
    "SELECT track,\n",
    "       COUNT(track) AS total,\n",
    "       ROUND(CAST(100 * COUNT(track) AS Float) / (SELECT COUNT(*) FROM union_data), 2) AS percentage \n",
    "  FROM union_data\n",
    " GROUP BY track"
   ]
  }
 ],
 "metadata": {
  "kernelspec": {
   "display_name": "Python 3",
   "language": "python",
   "name": "python3"
  },
  "language_info": {
   "codemirror_mode": {
    "name": "ipython",
    "version": 3
   },
   "file_extension": ".py",
   "mimetype": "text/x-python",
   "name": "python",
   "nbconvert_exporter": "python",
   "pygments_lexer": "ipython3",
   "version": "3.7.4"
  }
 },
 "nbformat": 4,
 "nbformat_minor": 2
}
